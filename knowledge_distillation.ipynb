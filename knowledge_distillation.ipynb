{
  "nbformat": 4,
  "nbformat_minor": 0,
  "metadata": {
    "colab": {
      "name": "AML_project_KD.ipynb",
      "provenance": [],
      "collapsed_sections": []
    },
    "kernelspec": {
      "name": "python3",
      "display_name": "Python 3"
    },
    "accelerator": "GPU"
  },
  "cells": [
    {
      "cell_type": "code",
      "metadata": {
        "id": "DH2p0OGcIJwQ"
      },
      "source": [
        "import tensorflow.keras\n",
        "from tensorflow.keras.datasets import mnist\n",
        "from tensorflow.keras.layers import Activation, Input, Embedding, LSTM, Dense, Lambda, GaussianNoise, concatenate\n",
        "from tensorflow.keras.models import Model\n",
        "import numpy as np\n",
        "from tensorflow.keras.utils import to_categorical\n",
        "#from tensorflow.keras.layers.core import Dense, Dropout, Activation\n",
        "from tensorflow.keras import backend as K\n",
        "from tensorflow.keras.models import Sequential\n",
        "#from tensorflow.keras.layers import Dense, Merge\n",
        "from tensorflow.keras.optimizers import SGD, Adam, RMSprop\n",
        "from tensorflow.keras.constraints import max_norm\n",
        "from tensorflow.keras.layers import MaxPooling2D, Dropout, Dense, Flatten, Activation, Conv2D\n",
        "from tensorflow.keras.models import Sequential\n",
        "from tensorflow.keras.losses import categorical_crossentropy as logloss\n",
        "from tensorflow.keras.metrics import categorical_accuracy\n",
        "import matplotlib.pyplot as plt\n",
        "\n",
        "\n",
        "\n",
        "#from tensorflow.keras import models\n",
        "#from tensorflow.keras.models import Sequential\n",
        "#from tensorflow.keras.layers import Conv2D\n",
        "#from tensorflow.keras.layers import MaxPooling2D\n",
        "#from tensorflow.keras.layers import Flatten\n",
        "#from tensorflow.keras.layers import Dense\n",
        "#from tensorflow.keras.layers import Dropout\n",
        "\n",
        "#from tensorflow.keras.layers import Activation\n",
        "\n",
        "#from tensorflow.keras.datasets import mnist\n",
        "#from tensorflow.keras.utils import to_categorical\n",
        "#from tensorflow.keras.layers import Activation, Input, Embedding, LSTM, Dense, Lambda, GaussianNoise, concatenate"
      ],
      "execution_count": null,
      "outputs": []
    },
    {
      "cell_type": "code",
      "metadata": {
        "id": "6XzX1u1TJBhx"
      },
      "source": [
        "nb_classes = 10\n",
        "\n",
        "(X_train, y_train), (X_test, y_test) = mnist.load_data()\n",
        "\n",
        "# convert y_train and y_test to categorical binary values \n",
        "Y_train = to_categorical(y_train, nb_classes)\n",
        "Y_test = to_categorical(y_test, nb_classes)"
      ],
      "execution_count": null,
      "outputs": []
    },
    {
      "cell_type": "code",
      "metadata": {
        "id": "Ps9F-sG7JPSP",
        "colab": {
          "base_uri": "https://localhost:8080/",
          "height": 34
        },
        "outputId": "a294a6c5-9309-4487-f48c-4cd4ac87247f"
      },
      "source": [
        "X_train.shape"
      ],
      "execution_count": null,
      "outputs": [
        {
          "output_type": "execute_result",
          "data": {
            "text/plain": [
              "(60000, 28, 28)"
            ]
          },
          "metadata": {
            "tags": []
          },
          "execution_count": 4
        }
      ]
    },
    {
      "cell_type": "code",
      "metadata": {
        "id": "iJcqIM4xJYZP",
        "colab": {
          "base_uri": "https://localhost:8080/",
          "height": 51
        },
        "outputId": "04ad91cd-ce88-4626-9fef-ce5496babb50"
      },
      "source": [
        "X_train = X_train.reshape(60000, 28, 28, 1)\n",
        "X_test = X_test.reshape(10000, 28, 28, 1)\n",
        "\n",
        "X_train = X_train.astype('float32')\n",
        "X_test = X_test.astype('float32')\n",
        "\n",
        "# Normalize the values\n",
        "X_train /= 255\n",
        "X_test /= 255\n",
        "\n",
        "print(X_train.shape[0], 'train samples')\n",
        "print(X_test.shape[0], 'test samples')"
      ],
      "execution_count": null,
      "outputs": [
        {
          "output_type": "stream",
          "text": [
            "60000 train samples\n",
            "10000 test samples\n"
          ],
          "name": "stdout"
        }
      ]
    },
    {
      "cell_type": "code",
      "metadata": {
        "id": "5wBmKhIpJeDj",
        "colab": {
          "base_uri": "https://localhost:8080/",
          "height": 578
        },
        "outputId": "252b66dc-4d6f-4bac-ad45-3215dc911426"
      },
      "source": [
        "\n",
        "from tensorflow.keras import optimizers\n",
        "input_shape = (28, 28, 1) # Input shape of each image\n",
        "\n",
        "\n",
        "dropout = 0.2\n",
        "\n",
        "teacher = Sequential()\n",
        "\n",
        "teacher.add(Conv2D(filters=32, kernel_size=(5,5), padding='same', strides=1,\n",
        "                     input_shape=X_train.shape[1:], activation='relu'))\n",
        "teacher.add(Dropout(dropout))\n",
        "teacher.add(MaxPooling2D(pool_size=(2, 2)))\n",
        "teacher.add(Conv2D(filters=64, kernel_size=(3,3), padding='same', strides=1,\n",
        "                  input_shape=X_train.shape[1:], activation='relu'))\n",
        "teacher.add(Dropout(dropout))\n",
        "teacher.add(MaxPooling2D(pool_size=(2, 2)))\n",
        "\n",
        "teacher.add(Flatten())\n",
        "teacher.add(Dense(1024, activation='relu'))\n",
        "teacher.add(Dropout(dropout))\n",
        "teacher.add(Dense(512, activation='relu'))\n",
        "teacher.add(Dropout(dropout))\n",
        "teacher.add(Dense(10,activation='softmax'))\n",
        "\n",
        "\n",
        "#teacher.add(Conv2D(32,  kernel_size = 3, activation='relu', input_shape = (32, 32, 3)))\n",
        "#teacher.add(Dropout(0.2))\n",
        "#teacher.add(Conv2D(32,  kernel_size = 3, activation='relu',padding= 'same', input_shape = (32, 32, 3)))\n",
        "#teacher.add(Conv2D(64, kernel_size = 3, strides=1, activation='relu'))\n",
        "#teacher.add(MaxPooling2D((2, 2)))\n",
        "#teacher.add(Conv2D(128, kernel_size = 3, strides=1,padding='same', activation='relu'))\n",
        "#teacher.add(MaxPooling2D((2, 2)))\n",
        "#teacher.add(Conv2D(64, kernel_size = 3, activation='relu'))\n",
        "#teacher.add(MaxPooling2D((2, 2)))\n",
        "#teacher.add(Dropout(0.2))\n",
        "\n",
        "\n",
        "#teacher.add(Flatten())\n",
        "#teacher.add(Dense(512, activation = \"relu\"))\n",
        "#teacher.add(Dropout(0.2))\n",
        "#teacher.add(Dense(10, activation = \"softmax\"))\n",
        "\n",
        "\n",
        "# Compile the model\n",
        "#teacher.compile(loss=\"categorical_crossentropy\", optimizer=\"Nadam\", metrics=[\"accuracy\"])\n",
        "\n",
        "# Summary of model\n",
        "#teacher.summary()\n",
        "\n",
        "\n",
        "\n",
        "#teacher = Sequential()\n",
        "#teacher.add(Conv2D(32, kernel_size=(3, 3),\n",
        "#                 activation='relu',\n",
        "#                 input_shape=input_shape))\n",
        "#teacher.add(Conv2D(64, (3, 3), activation='relu'))\n",
        "#teacher.add(MaxPooling2D(pool_size=(2, 2)))\n",
        "#\n",
        "#teacher.add(Dropout(0.25)) # For reguralization\n",
        "#\n",
        "#teacher.add(Flatten())\n",
        "#teacher.add(Dense(128, activation='relu'))\n",
        "#teacher.add(Dropout(0.5)) # For reguralization\n",
        "#\n",
        "#teacher.add(Dense(nb_classes, activation = 'softmax'))\n",
        "adelta = optimizers.Adadelta(lr=0.01)\n",
        "teacher.compile(loss='categorical_crossentropy',\n",
        "              optimizer=adelta,\n",
        "              metrics=['accuracy'])\n",
        "\n",
        "print(teacher.summary())"
      ],
      "execution_count": null,
      "outputs": [
        {
          "output_type": "stream",
          "text": [
            "Model: \"sequential\"\n",
            "_________________________________________________________________\n",
            "Layer (type)                 Output Shape              Param #   \n",
            "=================================================================\n",
            "conv2d (Conv2D)              (None, 28, 28, 32)        832       \n",
            "_________________________________________________________________\n",
            "dropout (Dropout)            (None, 28, 28, 32)        0         \n",
            "_________________________________________________________________\n",
            "max_pooling2d (MaxPooling2D) (None, 14, 14, 32)        0         \n",
            "_________________________________________________________________\n",
            "conv2d_1 (Conv2D)            (None, 14, 14, 64)        18496     \n",
            "_________________________________________________________________\n",
            "dropout_1 (Dropout)          (None, 14, 14, 64)        0         \n",
            "_________________________________________________________________\n",
            "max_pooling2d_1 (MaxPooling2 (None, 7, 7, 64)          0         \n",
            "_________________________________________________________________\n",
            "flatten (Flatten)            (None, 3136)              0         \n",
            "_________________________________________________________________\n",
            "dense (Dense)                (None, 1024)              3212288   \n",
            "_________________________________________________________________\n",
            "dropout_2 (Dropout)          (None, 1024)              0         \n",
            "_________________________________________________________________\n",
            "dense_1 (Dense)              (None, 512)               524800    \n",
            "_________________________________________________________________\n",
            "dropout_3 (Dropout)          (None, 512)               0         \n",
            "_________________________________________________________________\n",
            "dense_2 (Dense)              (None, 10)                5130      \n",
            "=================================================================\n",
            "Total params: 3,761,546\n",
            "Trainable params: 3,761,546\n",
            "Non-trainable params: 0\n",
            "_________________________________________________________________\n",
            "None\n"
          ],
          "name": "stdout"
        }
      ]
    },
    {
      "cell_type": "code",
      "metadata": {
        "id": "6hZoCz7aJoTE",
        "colab": {
          "base_uri": "https://localhost:8080/",
          "height": 1000
        },
        "outputId": "03aabbde-3c7f-4469-d11c-650b24b6f1d5"
      },
      "source": [
        "epochs = 50\n",
        "batch_size = 256\n",
        "teacher.fit(X_train, Y_train,\n",
        "          batch_size=batch_size,\n",
        "          epochs=epochs,\n",
        "          verbose=1,\n",
        "          validation_data=(X_test, Y_test))"
      ],
      "execution_count": null,
      "outputs": [
        {
          "output_type": "stream",
          "text": [
            "Epoch 1/50\n",
            "235/235 [==============================] - 2s 10ms/step - loss: 1.9633 - accuracy: 0.4368 - val_loss: 1.4253 - val_accuracy: 0.7913\n",
            "Epoch 2/50\n",
            "235/235 [==============================] - 2s 9ms/step - loss: 0.8014 - accuracy: 0.7768 - val_loss: 0.5961 - val_accuracy: 0.8808\n",
            "Epoch 3/50\n",
            "235/235 [==============================] - 2s 9ms/step - loss: 0.4848 - accuracy: 0.8540 - val_loss: 0.4388 - val_accuracy: 0.9061\n",
            "Epoch 4/50\n",
            "235/235 [==============================] - 2s 9ms/step - loss: 0.3915 - accuracy: 0.8829 - val_loss: 0.3730 - val_accuracy: 0.9169\n",
            "Epoch 5/50\n",
            "235/235 [==============================] - 2s 9ms/step - loss: 0.3393 - accuracy: 0.8990 - val_loss: 0.3215 - val_accuracy: 0.9263\n",
            "Epoch 6/50\n",
            "235/235 [==============================] - 2s 9ms/step - loss: 0.3045 - accuracy: 0.9085 - val_loss: 0.2932 - val_accuracy: 0.9336\n",
            "Epoch 7/50\n",
            "235/235 [==============================] - 2s 8ms/step - loss: 0.2743 - accuracy: 0.9172 - val_loss: 0.2659 - val_accuracy: 0.9395\n",
            "Epoch 8/50\n",
            "235/235 [==============================] - 2s 9ms/step - loss: 0.2560 - accuracy: 0.9220 - val_loss: 0.2469 - val_accuracy: 0.9438\n",
            "Epoch 9/50\n",
            "235/235 [==============================] - 2s 9ms/step - loss: 0.2372 - accuracy: 0.9279 - val_loss: 0.2256 - val_accuracy: 0.9463\n",
            "Epoch 10/50\n",
            "235/235 [==============================] - 2s 8ms/step - loss: 0.2220 - accuracy: 0.9333 - val_loss: 0.2157 - val_accuracy: 0.9504\n",
            "Epoch 11/50\n",
            "235/235 [==============================] - 2s 9ms/step - loss: 0.2077 - accuracy: 0.9371 - val_loss: 0.1973 - val_accuracy: 0.9529\n",
            "Epoch 12/50\n",
            "235/235 [==============================] - 2s 8ms/step - loss: 0.1956 - accuracy: 0.9407 - val_loss: 0.1878 - val_accuracy: 0.9562\n",
            "Epoch 13/50\n",
            "235/235 [==============================] - 2s 8ms/step - loss: 0.1827 - accuracy: 0.9448 - val_loss: 0.1794 - val_accuracy: 0.9554\n",
            "Epoch 14/50\n",
            "235/235 [==============================] - 2s 8ms/step - loss: 0.1765 - accuracy: 0.9466 - val_loss: 0.1676 - val_accuracy: 0.9610\n",
            "Epoch 15/50\n",
            "235/235 [==============================] - 2s 8ms/step - loss: 0.1669 - accuracy: 0.9492 - val_loss: 0.1604 - val_accuracy: 0.9616\n",
            "Epoch 16/50\n",
            "235/235 [==============================] - 2s 8ms/step - loss: 0.1597 - accuracy: 0.9517 - val_loss: 0.1541 - val_accuracy: 0.9640\n",
            "Epoch 17/50\n",
            "235/235 [==============================] - 2s 9ms/step - loss: 0.1519 - accuracy: 0.9538 - val_loss: 0.1461 - val_accuracy: 0.9665\n",
            "Epoch 18/50\n",
            "235/235 [==============================] - 2s 8ms/step - loss: 0.1453 - accuracy: 0.9564 - val_loss: 0.1399 - val_accuracy: 0.9681\n",
            "Epoch 19/50\n",
            "235/235 [==============================] - 2s 8ms/step - loss: 0.1400 - accuracy: 0.9573 - val_loss: 0.1329 - val_accuracy: 0.9691\n",
            "Epoch 20/50\n",
            "235/235 [==============================] - 2s 9ms/step - loss: 0.1340 - accuracy: 0.9594 - val_loss: 0.1280 - val_accuracy: 0.9702\n",
            "Epoch 21/50\n",
            "235/235 [==============================] - 2s 8ms/step - loss: 0.1288 - accuracy: 0.9606 - val_loss: 0.1267 - val_accuracy: 0.9693\n",
            "Epoch 22/50\n",
            "235/235 [==============================] - 2s 9ms/step - loss: 0.1238 - accuracy: 0.9626 - val_loss: 0.1204 - val_accuracy: 0.9714\n",
            "Epoch 23/50\n",
            "235/235 [==============================] - 2s 9ms/step - loss: 0.1202 - accuracy: 0.9635 - val_loss: 0.1166 - val_accuracy: 0.9713\n",
            "Epoch 24/50\n",
            "235/235 [==============================] - 2s 8ms/step - loss: 0.1174 - accuracy: 0.9641 - val_loss: 0.1107 - val_accuracy: 0.9742\n",
            "Epoch 25/50\n",
            "235/235 [==============================] - 2s 8ms/step - loss: 0.1132 - accuracy: 0.9655 - val_loss: 0.1091 - val_accuracy: 0.9751\n",
            "Epoch 26/50\n",
            "235/235 [==============================] - 2s 9ms/step - loss: 0.1096 - accuracy: 0.9675 - val_loss: 0.1019 - val_accuracy: 0.9761\n",
            "Epoch 27/50\n",
            "235/235 [==============================] - 2s 9ms/step - loss: 0.1074 - accuracy: 0.9671 - val_loss: 0.1006 - val_accuracy: 0.9762\n",
            "Epoch 28/50\n",
            "235/235 [==============================] - 2s 9ms/step - loss: 0.1032 - accuracy: 0.9688 - val_loss: 0.0981 - val_accuracy: 0.9763\n",
            "Epoch 29/50\n",
            "235/235 [==============================] - 2s 9ms/step - loss: 0.1015 - accuracy: 0.9687 - val_loss: 0.0959 - val_accuracy: 0.9778\n",
            "Epoch 30/50\n",
            "235/235 [==============================] - 2s 9ms/step - loss: 0.0973 - accuracy: 0.9699 - val_loss: 0.0937 - val_accuracy: 0.9775\n",
            "Epoch 31/50\n",
            "235/235 [==============================] - 2s 9ms/step - loss: 0.0972 - accuracy: 0.9709 - val_loss: 0.0921 - val_accuracy: 0.9784\n",
            "Epoch 32/50\n",
            "235/235 [==============================] - 2s 8ms/step - loss: 0.0931 - accuracy: 0.9713 - val_loss: 0.0885 - val_accuracy: 0.9780\n",
            "Epoch 33/50\n",
            "235/235 [==============================] - 2s 9ms/step - loss: 0.0918 - accuracy: 0.9717 - val_loss: 0.0863 - val_accuracy: 0.9793\n",
            "Epoch 34/50\n",
            "235/235 [==============================] - 2s 9ms/step - loss: 0.0892 - accuracy: 0.9718 - val_loss: 0.0847 - val_accuracy: 0.9791\n",
            "Epoch 35/50\n",
            "235/235 [==============================] - 2s 9ms/step - loss: 0.0883 - accuracy: 0.9728 - val_loss: 0.0844 - val_accuracy: 0.9786\n",
            "Epoch 36/50\n",
            "235/235 [==============================] - 2s 9ms/step - loss: 0.0856 - accuracy: 0.9735 - val_loss: 0.0815 - val_accuracy: 0.9799\n",
            "Epoch 37/50\n",
            "235/235 [==============================] - 2s 9ms/step - loss: 0.0841 - accuracy: 0.9742 - val_loss: 0.0784 - val_accuracy: 0.9804\n",
            "Epoch 38/50\n",
            "235/235 [==============================] - 2s 9ms/step - loss: 0.0810 - accuracy: 0.9758 - val_loss: 0.0783 - val_accuracy: 0.9808\n",
            "Epoch 39/50\n",
            "235/235 [==============================] - 2s 9ms/step - loss: 0.0810 - accuracy: 0.9753 - val_loss: 0.0766 - val_accuracy: 0.9813\n",
            "Epoch 40/50\n",
            "235/235 [==============================] - 2s 9ms/step - loss: 0.0774 - accuracy: 0.9765 - val_loss: 0.0744 - val_accuracy: 0.9807\n",
            "Epoch 41/50\n",
            "235/235 [==============================] - 2s 9ms/step - loss: 0.0770 - accuracy: 0.9771 - val_loss: 0.0731 - val_accuracy: 0.9816\n",
            "Epoch 42/50\n",
            "235/235 [==============================] - 2s 9ms/step - loss: 0.0768 - accuracy: 0.9765 - val_loss: 0.0721 - val_accuracy: 0.9818\n",
            "Epoch 43/50\n",
            "235/235 [==============================] - 2s 9ms/step - loss: 0.0761 - accuracy: 0.9770 - val_loss: 0.0718 - val_accuracy: 0.9822\n",
            "Epoch 44/50\n",
            "235/235 [==============================] - 2s 8ms/step - loss: 0.0737 - accuracy: 0.9776 - val_loss: 0.0710 - val_accuracy: 0.9824\n",
            "Epoch 45/50\n",
            "235/235 [==============================] - 2s 8ms/step - loss: 0.0725 - accuracy: 0.9771 - val_loss: 0.0686 - val_accuracy: 0.9824\n",
            "Epoch 46/50\n",
            "235/235 [==============================] - 2s 9ms/step - loss: 0.0705 - accuracy: 0.9779 - val_loss: 0.0673 - val_accuracy: 0.9826\n",
            "Epoch 47/50\n",
            "235/235 [==============================] - 2s 9ms/step - loss: 0.0698 - accuracy: 0.9786 - val_loss: 0.0665 - val_accuracy: 0.9832\n",
            "Epoch 48/50\n",
            "235/235 [==============================] - 2s 9ms/step - loss: 0.0695 - accuracy: 0.9791 - val_loss: 0.0659 - val_accuracy: 0.9836\n",
            "Epoch 49/50\n",
            "235/235 [==============================] - 2s 9ms/step - loss: 0.0664 - accuracy: 0.9798 - val_loss: 0.0640 - val_accuracy: 0.9839\n",
            "Epoch 50/50\n",
            "235/235 [==============================] - 2s 9ms/step - loss: 0.0659 - accuracy: 0.9800 - val_loss: 0.0630 - val_accuracy: 0.9842\n"
          ],
          "name": "stdout"
        },
        {
          "output_type": "execute_result",
          "data": {
            "text/plain": [
              "<tensorflow.python.keras.callbacks.History at 0x7f9720371128>"
            ]
          },
          "metadata": {
            "tags": []
          },
          "execution_count": 7
        }
      ]
    },
    {
      "cell_type": "code",
      "metadata": {
        "id": "ZMP2RqFEJlVk",
        "colab": {
          "base_uri": "https://localhost:8080/",
          "height": 323
        },
        "outputId": "cee0419f-2408-4422-8e7e-35c7a0856851"
      },
      "source": [
        "student = Sequential()\n",
        "student.add(Conv2D(32, kernel_size=(3, 3),\n",
        "                 activation='relu',\n",
        "                 input_shape=input_shape))\n",
        "student.add(Flatten())\n",
        "student.add(Dense(32, activation='relu'))\n",
        "student.add(Dropout(0.2))\n",
        "student.add(Dense(nb_classes, activation = 'softmax'))\n",
        "\n",
        "#sgd = keras.optimizers.SGD(lr=0.01, decay=1e-6, momentum=0.9, nesterov=True)\n",
        "student.compile(loss='categorical_crossentropy',\n",
        "              optimizer='adadelta',\n",
        "              metrics=['accuracy'])\n",
        "\n",
        "student.summary()"
      ],
      "execution_count": null,
      "outputs": [
        {
          "output_type": "stream",
          "text": [
            "Model: \"sequential_1\"\n",
            "_________________________________________________________________\n",
            "Layer (type)                 Output Shape              Param #   \n",
            "=================================================================\n",
            "conv2d_2 (Conv2D)            (None, 26, 26, 32)        320       \n",
            "_________________________________________________________________\n",
            "flatten_1 (Flatten)          (None, 21632)             0         \n",
            "_________________________________________________________________\n",
            "dense_3 (Dense)              (None, 32)                692256    \n",
            "_________________________________________________________________\n",
            "dropout_4 (Dropout)          (None, 32)                0         \n",
            "_________________________________________________________________\n",
            "dense_4 (Dense)              (None, 10)                330       \n",
            "=================================================================\n",
            "Total params: 692,906\n",
            "Trainable params: 692,906\n",
            "Non-trainable params: 0\n",
            "_________________________________________________________________\n"
          ],
          "name": "stdout"
        }
      ]
    },
    {
      "cell_type": "code",
      "metadata": {
        "id": "fwdQ6j1YJsez"
      },
      "source": [
        "from tensorflow.keras import models\n",
        "temp = 7\n",
        "\n",
        "teacher_WO_Softmax = models.Model(teacher.input, teacher.get_layer('dense_2').output)"
      ],
      "execution_count": null,
      "outputs": []
    },
    {
      "cell_type": "code",
      "metadata": {
        "id": "ydMpqrYpLK9l",
        "colab": {
          "base_uri": "https://localhost:8080/",
          "height": 877
        },
        "outputId": "ce1e24c0-9fc5-4851-a3e0-24bd705c768c"
      },
      "source": [
        "import numpy as np\n",
        "\n",
        "def softmax(x):\n",
        "    return np.exp(x)/(np.exp(x).sum())\n",
        "\n",
        "\n",
        "import matplotlib.pyplot as plt\n",
        "\n",
        "intermediate_output = teacher_WO_Softmax.predict(X_test[0].reshape(1,28,28,1))\n",
        "print(softmax(intermediate_output))\n",
        "\n",
        "pixels = X_test[0]\n",
        "pixels = pixels.reshape((28, 28))\n",
        "plt.imshow(pixels)\n",
        "plt.show()\n",
        "\n",
        "# logits for the first number in test dataset\n",
        "x = intermediate_output[0]\n",
        "plt.figure(figsize=(20, 10));\n",
        "\n",
        "temperature = [1,3,7,10,20,50]\n",
        "\n",
        "for temp in temperature:\n",
        "    plt.plot((softmax(x/temp)), label='$T='+str(temp)+'$', linewidth=2);\n",
        "    plt.legend();\n",
        "plt.xlabel('classes ->');\n",
        "plt.ylabel('probability');\n",
        "plt.xlim([0, 10]);\n",
        "plt.show()"
      ],
      "execution_count": null,
      "outputs": [
        {
          "output_type": "stream",
          "text": [
            "[[0.08538848 0.08538684 0.08547545 0.08559038 0.08538533 0.08538882\n",
            "  0.08538505 0.23120439 0.08539137 0.0854039 ]]\n"
          ],
          "name": "stdout"
        },
        {
          "output_type": "display_data",
          "data": {
            "image/png": "[encoded data removed]",
            "text/plain": [
              "<Figure size 432x288 with 1 Axes>"
            ]
          },
          "metadata": {
            "tags": [],
            "needs_background": "light"
          }
        },
        {
          "output_type": "display_data",
          "data": {
            "image/png": "[encoded data removed]",
            "text/plain": [
              "<Figure size 1440x720 with 1 Axes>"
            ]
          },
          "metadata": {
            "tags": [],
            "needs_background": "light"
          }
        }
      ]
    },
    {
      "cell_type": "code",
      "metadata": {
        "id": "D4KyExumXrSZ",
        "colab": {
          "base_uri": "https://localhost:8080/",
          "height": 51
        },
        "outputId": "e73dc610-254e-4a2f-868b-e3bc3c5a3b34"
      },
      "source": [
        "print(intermediate_output[0])"
      ],
      "execution_count": null,
      "outputs": [
        {
          "output_type": "stream",
          "text": [
            "[4.0723869e-05 2.1455797e-05 1.0587280e-03 2.4024153e-03 3.8516910e-06\n",
            " 4.4729622e-05 4.4485012e-07 9.9613166e-01 7.4572163e-05 2.2129522e-04]\n"
          ],
          "name": "stdout"
        }
      ]
    },
    {
      "cell_type": "code",
      "metadata": {
        "id": "p6MKvnyILhnq"
      },
      "source": [
        "teacher_train_logits = teacher_WO_Softmax.predict(X_train)\n",
        "teacher_test_logits = teacher_WO_Softmax.predict(X_test) # This model directly gives the logits ( see the teacher_WO_softmax model above)\n",
        "\n",
        "# Perform a manual softmax at raised temperature\n",
        "train_logits_T = teacher_train_logits/temp\n",
        "test_logits_T = teacher_test_logits / temp \n",
        "\n",
        "Y_train_soft = softmax(train_logits_T)\n",
        "Y_test_soft = softmax(test_logits_T)\n",
        "\n",
        "# Concatenate so that this becomes a 10 + 10 dimensional vector\n",
        "Y_train_new = np.concatenate([Y_train, Y_train_soft], axis=1)\n",
        "Y_test_new =  np.concatenate([Y_test, Y_test_soft], axis =1)"
      ],
      "execution_count": null,
      "outputs": []
    },
    {
      "cell_type": "code",
      "metadata": {
        "id": "v4ByhUJQMnL3",
        "colab": {
          "base_uri": "https://localhost:8080/",
          "height": 34
        },
        "outputId": "308959d2-77e7-49b7-ae9e-470d927ff4fd"
      },
      "source": [
        "Y_train_new.shape"
      ],
      "execution_count": null,
      "outputs": [
        {
          "output_type": "execute_result",
          "data": {
            "text/plain": [
              "(60000, 20)"
            ]
          },
          "metadata": {
            "tags": []
          },
          "execution_count": 14
        }
      ]
    },
    {
      "cell_type": "code",
      "metadata": {
        "id": "vTF0ShIJMqRY",
        "colab": {
          "base_uri": "https://localhost:8080/",
          "height": 510
        },
        "outputId": "265533bb-c281-4a83-89e5-02dc058ca7d6"
      },
      "source": [
        "student.layers.pop()\n",
        "\n",
        "# Now collect the logits from the last layer\n",
        "logits = student.layers[-1].output # This is going to be a tensor. And hence it needs to pass through a Activation layer\n",
        "probs = Activation('softmax')(logits)\n",
        "\n",
        "# softed probabilities at raised temperature\n",
        "logits_T = Lambda(lambda x: x / temp)(logits)\n",
        "probs_T = Activation('softmax')(logits_T)\n",
        "\n",
        "output = concatenate([probs, probs_T])\n",
        "\n",
        "# This is our new student model\n",
        "student = models.Model(student.input, output)\n",
        "\n",
        "student.summary()"
      ],
      "execution_count": null,
      "outputs": [
        {
          "output_type": "stream",
          "text": [
            "Model: \"model_2\"\n",
            "__________________________________________________________________________________________________\n",
            "Layer (type)                    Output Shape         Param #     Connected to                     \n",
            "==================================================================================================\n",
            "conv2d_2_input (InputLayer)     [(None, 28, 28, 1)]  0                                            \n",
            "__________________________________________________________________________________________________\n",
            "conv2d_2 (Conv2D)               (None, 26, 26, 32)   320         conv2d_2_input[0][0]             \n",
            "__________________________________________________________________________________________________\n",
            "flatten_1 (Flatten)             (None, 21632)        0           conv2d_2[0][0]                   \n",
            "__________________________________________________________________________________________________\n",
            "dense_3 (Dense)                 (None, 32)           692256      flatten_1[0][0]                  \n",
            "__________________________________________________________________________________________________\n",
            "dropout_4 (Dropout)             (None, 32)           0           dense_3[0][0]                    \n",
            "__________________________________________________________________________________________________\n",
            "dense_4 (Dense)                 (None, 10)           330         dropout_4[0][0]                  \n",
            "__________________________________________________________________________________________________\n",
            "lambda (Lambda)                 (None, 10)           0           dense_4[0][0]                    \n",
            "__________________________________________________________________________________________________\n",
            "activation (Activation)         (None, 10)           0           dense_4[0][0]                    \n",
            "__________________________________________________________________________________________________\n",
            "activation_1 (Activation)       (None, 10)           0           lambda[0][0]                     \n",
            "__________________________________________________________________________________________________\n",
            "concatenate (Concatenate)       (None, 20)           0           activation[0][0]                 \n",
            "                                                                 activation_1[0][0]               \n",
            "==================================================================================================\n",
            "Total params: 692,906\n",
            "Trainable params: 692,906\n",
            "Non-trainable params: 0\n",
            "__________________________________________________________________________________________________\n"
          ],
          "name": "stdout"
        }
      ]
    },
    {
      "cell_type": "code",
      "metadata": {
        "id": "K28RgXYGM2JL"
      },
      "source": [
        "def knowledge_distillation_loss(y_true, y_pred, alpha):\n",
        "\n",
        "    # Extract the one-hot encoded values and the softs separately so that we can create two objective functions\n",
        "    y_true, y_true_softs = y_true[: , :nb_classes], y_true[: , nb_classes:]\n",
        "    \n",
        "    y_pred, y_pred_softs = y_pred[: , :nb_classes], y_pred[: , nb_classes:]\n",
        "    \n",
        "    loss = alpha*logloss(y_true,y_pred) + logloss(y_true_softs, y_pred_softs)\n",
        "    \n",
        "    return loss\n",
        "\n",
        "# For testing use regular output probabilities - without temperature\n",
        "def acc(y_true, y_pred):\n",
        "    y_true = y_true[:, :nb_classes]\n",
        "    y_pred = y_pred[:, :nb_classes]\n",
        "    return categorical_accuracy(y_true, y_pred)\n",
        "\n",
        "student.compile(\n",
        "    #optimizer=optimizers.SGD(lr=1e-1, momentum=0.9, nesterov=True),\n",
        "    optimizer='adadelta',\n",
        "    loss=lambda y_true, y_pred: knowledge_distillation_loss(y_true, y_pred, 0.1),\n",
        "    #loss='categorical_crossentropy',\n",
        "    metrics=[acc] )"
      ],
      "execution_count": null,
      "outputs": []
    },
    {
      "cell_type": "code",
      "metadata": {
        "id": "Kj4d4d-RNceK",
        "colab": {
          "base_uri": "https://localhost:8080/",
          "height": 34
        },
        "outputId": "4407402e-9450-4842-c2d8-ff024f92cf61"
      },
      "source": [
        "Y_test_new.shape"
      ],
      "execution_count": null,
      "outputs": [
        {
          "output_type": "execute_result",
          "data": {
            "text/plain": [
              "(10000, 20)"
            ]
          },
          "metadata": {
            "tags": []
          },
          "execution_count": 18
        }
      ]
    },
    {
      "cell_type": "code",
      "metadata": {
        "id": "tcBmrFfENEjq",
        "colab": {
          "base_uri": "https://localhost:8080/",
          "height": 1000
        },
        "outputId": "a009addc-7189-4b97-d2d0-86b5e4de0261"
      },
      "source": [
        "student_epochs = 200\n",
        "from tensorflow.keras.losses import categorical_crossentropy as logloss\n",
        "from tensorflow.keras.metrics import categorical_accuracy\n",
        "student.fit(X_train, Y_train_new,\n",
        "          batch_size=128,\n",
        "          epochs=student_epochs,\n",
        "          verbose=1,\n",
        "          validation_data=(X_test, Y_test_new))"
      ],
      "execution_count": null,
      "outputs": [
        {
          "output_type": "stream",
          "text": [
            "Epoch 1/200\n",
            "469/469 [==============================] - 2s 4ms/step - loss: 0.2301 - acc: 0.1575 - val_loss: 0.2303 - val_acc: 0.1748\n",
            "Epoch 2/200\n",
            "469/469 [==============================] - 2s 4ms/step - loss: 0.2301 - acc: 0.1648 - val_loss: 0.2303 - val_acc: 0.1872\n",
            "Epoch 3/200\n",
            "469/469 [==============================] - 2s 4ms/step - loss: 0.2301 - acc: 0.1761 - val_loss: 0.2302 - val_acc: 0.1969\n",
            "Epoch 4/200\n",
            "469/469 [==============================] - 2s 4ms/step - loss: 0.2300 - acc: 0.1879 - val_loss: 0.2302 - val_acc: 0.2108\n",
            "Epoch 5/200\n",
            "469/469 [==============================] - 2s 4ms/step - loss: 0.2300 - acc: 0.1973 - val_loss: 0.2302 - val_acc: 0.2248\n",
            "Epoch 6/200\n",
            "469/469 [==============================] - 2s 4ms/step - loss: 0.2300 - acc: 0.2048 - val_loss: 0.2301 - val_acc: 0.2406\n",
            "Epoch 7/200\n",
            "469/469 [==============================] - 2s 4ms/step - loss: 0.2299 - acc: 0.2181 - val_loss: 0.2301 - val_acc: 0.2547\n",
            "Epoch 8/200\n",
            "469/469 [==============================] - 2s 4ms/step - loss: 0.2299 - acc: 0.2278 - val_loss: 0.2300 - val_acc: 0.2702\n",
            "Epoch 9/200\n",
            "469/469 [==============================] - 2s 4ms/step - loss: 0.2299 - acc: 0.2356 - val_loss: 0.2300 - val_acc: 0.2858\n",
            "Epoch 10/200\n",
            "469/469 [==============================] - 2s 4ms/step - loss: 0.2298 - acc: 0.2465 - val_loss: 0.2300 - val_acc: 0.3012\n",
            "Epoch 11/200\n",
            "469/469 [==============================] - 2s 4ms/step - loss: 0.2298 - acc: 0.2585 - val_loss: 0.2299 - val_acc: 0.3157\n",
            "Epoch 12/200\n",
            "469/469 [==============================] - 2s 4ms/step - loss: 0.2297 - acc: 0.2669 - val_loss: 0.2299 - val_acc: 0.3279\n",
            "Epoch 13/200\n",
            "469/469 [==============================] - 2s 4ms/step - loss: 0.2297 - acc: 0.2767 - val_loss: 0.2298 - val_acc: 0.3379\n",
            "Epoch 14/200\n",
            "469/469 [==============================] - 2s 4ms/step - loss: 0.2297 - acc: 0.2858 - val_loss: 0.2298 - val_acc: 0.3506\n",
            "Epoch 15/200\n",
            "469/469 [==============================] - 2s 4ms/step - loss: 0.2296 - acc: 0.2967 - val_loss: 0.2297 - val_acc: 0.3597\n",
            "Epoch 16/200\n",
            "469/469 [==============================] - 2s 4ms/step - loss: 0.2296 - acc: 0.3064 - val_loss: 0.2297 - val_acc: 0.3686\n",
            "Epoch 17/200\n",
            "469/469 [==============================] - 2s 4ms/step - loss: 0.2295 - acc: 0.3135 - val_loss: 0.2296 - val_acc: 0.3775\n",
            "Epoch 18/200\n",
            "469/469 [==============================] - 2s 4ms/step - loss: 0.2295 - acc: 0.3208 - val_loss: 0.2296 - val_acc: 0.3829\n",
            "Epoch 19/200\n",
            "469/469 [==============================] - 2s 4ms/step - loss: 0.2294 - acc: 0.3239 - val_loss: 0.2295 - val_acc: 0.3885\n",
            "Epoch 20/200\n",
            "469/469 [==============================] - 2s 4ms/step - loss: 0.2293 - acc: 0.3336 - val_loss: 0.2295 - val_acc: 0.3935\n",
            "Epoch 21/200\n",
            "469/469 [==============================] - 2s 4ms/step - loss: 0.2293 - acc: 0.3380 - val_loss: 0.2294 - val_acc: 0.3987\n",
            "Epoch 22/200\n",
            "469/469 [==============================] - 2s 4ms/step - loss: 0.2292 - acc: 0.3453 - val_loss: 0.2293 - val_acc: 0.4024\n",
            "Epoch 23/200\n",
            "469/469 [==============================] - 2s 4ms/step - loss: 0.2292 - acc: 0.3502 - val_loss: 0.2293 - val_acc: 0.4071\n",
            "Epoch 24/200\n",
            "469/469 [==============================] - 2s 4ms/step - loss: 0.2291 - acc: 0.3561 - val_loss: 0.2292 - val_acc: 0.4104\n",
            "Epoch 25/200\n",
            "469/469 [==============================] - 2s 4ms/step - loss: 0.2290 - acc: 0.3620 - val_loss: 0.2291 - val_acc: 0.4141\n",
            "Epoch 26/200\n",
            "469/469 [==============================] - 2s 4ms/step - loss: 0.2290 - acc: 0.3662 - val_loss: 0.2291 - val_acc: 0.4166\n",
            "Epoch 27/200\n",
            "469/469 [==============================] - 2s 4ms/step - loss: 0.2289 - acc: 0.3711 - val_loss: 0.2290 - val_acc: 0.4204\n",
            "Epoch 28/200\n",
            "469/469 [==============================] - 2s 4ms/step - loss: 0.2288 - acc: 0.3760 - val_loss: 0.2289 - val_acc: 0.4223\n",
            "Epoch 29/200\n",
            "469/469 [==============================] - 2s 4ms/step - loss: 0.2287 - acc: 0.3785 - val_loss: 0.2288 - val_acc: 0.4248\n",
            "Epoch 30/200\n",
            "469/469 [==============================] - 2s 4ms/step - loss: 0.2287 - acc: 0.3811 - val_loss: 0.2287 - val_acc: 0.4267\n",
            "Epoch 31/200\n",
            "469/469 [==============================] - 2s 4ms/step - loss: 0.2286 - acc: 0.3844 - val_loss: 0.2287 - val_acc: 0.4291\n",
            "Epoch 32/200\n",
            "469/469 [==============================] - 2s 4ms/step - loss: 0.2285 - acc: 0.3890 - val_loss: 0.2286 - val_acc: 0.4307\n",
            "Epoch 33/200\n",
            "469/469 [==============================] - 2s 4ms/step - loss: 0.2284 - acc: 0.3916 - val_loss: 0.2285 - val_acc: 0.4322\n",
            "Epoch 34/200\n",
            "469/469 [==============================] - 2s 4ms/step - loss: 0.2283 - acc: 0.3939 - val_loss: 0.2284 - val_acc: 0.4338\n",
            "Epoch 35/200\n",
            "469/469 [==============================] - 2s 4ms/step - loss: 0.2282 - acc: 0.3983 - val_loss: 0.2283 - val_acc: 0.4358\n",
            "Epoch 36/200\n",
            "469/469 [==============================] - 2s 4ms/step - loss: 0.2281 - acc: 0.4015 - val_loss: 0.2282 - val_acc: 0.4379\n",
            "Epoch 37/200\n",
            "469/469 [==============================] - 2s 4ms/step - loss: 0.2280 - acc: 0.4019 - val_loss: 0.2280 - val_acc: 0.4405\n",
            "Epoch 38/200\n",
            "469/469 [==============================] - 2s 4ms/step - loss: 0.2279 - acc: 0.4032 - val_loss: 0.2279 - val_acc: 0.4421\n",
            "Epoch 39/200\n",
            "469/469 [==============================] - 2s 4ms/step - loss: 0.2278 - acc: 0.4072 - val_loss: 0.2278 - val_acc: 0.4442\n",
            "Epoch 40/200\n",
            "469/469 [==============================] - 2s 4ms/step - loss: 0.2276 - acc: 0.4083 - val_loss: 0.2277 - val_acc: 0.4454\n",
            "Epoch 41/200\n",
            "469/469 [==============================] - 2s 4ms/step - loss: 0.2275 - acc: 0.4099 - val_loss: 0.2275 - val_acc: 0.4472\n",
            "Epoch 42/200\n",
            "469/469 [==============================] - 2s 4ms/step - loss: 0.2274 - acc: 0.4118 - val_loss: 0.2274 - val_acc: 0.4486\n",
            "Epoch 43/200\n",
            "469/469 [==============================] - 2s 4ms/step - loss: 0.2272 - acc: 0.4150 - val_loss: 0.2272 - val_acc: 0.4498\n",
            "Epoch 44/200\n",
            "469/469 [==============================] - 2s 4ms/step - loss: 0.2271 - acc: 0.4159 - val_loss: 0.2271 - val_acc: 0.4511\n",
            "Epoch 45/200\n",
            "469/469 [==============================] - 2s 4ms/step - loss: 0.2269 - acc: 0.4164 - val_loss: 0.2269 - val_acc: 0.4525\n",
            "Epoch 46/200\n",
            "469/469 [==============================] - 2s 4ms/step - loss: 0.2268 - acc: 0.4189 - val_loss: 0.2267 - val_acc: 0.4542\n",
            "Epoch 47/200\n",
            "469/469 [==============================] - 2s 4ms/step - loss: 0.2266 - acc: 0.4203 - val_loss: 0.2266 - val_acc: 0.4553\n",
            "Epoch 48/200\n",
            "469/469 [==============================] - 2s 4ms/step - loss: 0.2264 - acc: 0.4198 - val_loss: 0.2264 - val_acc: 0.4564\n",
            "Epoch 49/200\n",
            "469/469 [==============================] - 2s 4ms/step - loss: 0.2262 - acc: 0.4222 - val_loss: 0.2262 - val_acc: 0.4573\n",
            "Epoch 50/200\n",
            "469/469 [==============================] - 2s 4ms/step - loss: 0.2260 - acc: 0.4239 - val_loss: 0.2259 - val_acc: 0.4583\n",
            "Epoch 51/200\n",
            "469/469 [==============================] - 2s 4ms/step - loss: 0.2258 - acc: 0.4273 - val_loss: 0.2257 - val_acc: 0.4592\n",
            "Epoch 52/200\n",
            "469/469 [==============================] - 2s 4ms/step - loss: 0.2256 - acc: 0.4262 - val_loss: 0.2255 - val_acc: 0.4605\n",
            "Epoch 53/200\n",
            "469/469 [==============================] - 2s 4ms/step - loss: 0.2253 - acc: 0.4272 - val_loss: 0.2252 - val_acc: 0.4616\n",
            "Epoch 54/200\n",
            "469/469 [==============================] - 2s 4ms/step - loss: 0.2251 - acc: 0.4301 - val_loss: 0.2249 - val_acc: 0.4623\n",
            "Epoch 55/200\n",
            "469/469 [==============================] - 2s 4ms/step - loss: 0.2248 - acc: 0.4314 - val_loss: 0.2247 - val_acc: 0.4627\n",
            "Epoch 56/200\n",
            "469/469 [==============================] - 2s 4ms/step - loss: 0.2245 - acc: 0.4305 - val_loss: 0.2244 - val_acc: 0.4629\n",
            "Epoch 57/200\n",
            "469/469 [==============================] - 2s 4ms/step - loss: 0.2243 - acc: 0.4331 - val_loss: 0.2240 - val_acc: 0.4640\n",
            "Epoch 58/200\n",
            "469/469 [==============================] - 2s 4ms/step - loss: 0.2239 - acc: 0.4349 - val_loss: 0.2237 - val_acc: 0.4655\n",
            "Epoch 59/200\n",
            "469/469 [==============================] - 2s 4ms/step - loss: 0.2236 - acc: 0.4350 - val_loss: 0.2234 - val_acc: 0.4665\n",
            "Epoch 60/200\n",
            "469/469 [==============================] - 2s 4ms/step - loss: 0.2233 - acc: 0.4373 - val_loss: 0.2230 - val_acc: 0.4675\n",
            "Epoch 61/200\n",
            "469/469 [==============================] - 2s 4ms/step - loss: 0.2229 - acc: 0.4384 - val_loss: 0.2226 - val_acc: 0.4685\n",
            "Epoch 62/200\n",
            "469/469 [==============================] - 2s 4ms/step - loss: 0.2226 - acc: 0.4390 - val_loss: 0.2222 - val_acc: 0.4698\n",
            "Epoch 63/200\n",
            "469/469 [==============================] - 2s 4ms/step - loss: 0.2222 - acc: 0.4413 - val_loss: 0.2218 - val_acc: 0.4715\n",
            "Epoch 64/200\n",
            "469/469 [==============================] - 2s 4ms/step - loss: 0.2218 - acc: 0.4428 - val_loss: 0.2214 - val_acc: 0.4736\n",
            "Epoch 65/200\n",
            "469/469 [==============================] - 2s 4ms/step - loss: 0.2213 - acc: 0.4446 - val_loss: 0.2209 - val_acc: 0.4757\n",
            "Epoch 66/200\n",
            "469/469 [==============================] - 2s 4ms/step - loss: 0.2209 - acc: 0.4479 - val_loss: 0.2204 - val_acc: 0.4775\n",
            "Epoch 67/200\n",
            "469/469 [==============================] - 2s 4ms/step - loss: 0.2205 - acc: 0.4475 - val_loss: 0.2199 - val_acc: 0.4793\n",
            "Epoch 68/200\n",
            "469/469 [==============================] - 2s 4ms/step - loss: 0.2201 - acc: 0.4486 - val_loss: 0.2194 - val_acc: 0.4817\n",
            "Epoch 69/200\n",
            "469/469 [==============================] - 2s 4ms/step - loss: 0.2196 - acc: 0.4535 - val_loss: 0.2189 - val_acc: 0.4836\n",
            "Epoch 70/200\n",
            "469/469 [==============================] - 2s 4ms/step - loss: 0.2190 - acc: 0.4577 - val_loss: 0.2184 - val_acc: 0.4860\n",
            "Epoch 71/200\n",
            "469/469 [==============================] - 2s 4ms/step - loss: 0.2186 - acc: 0.4579 - val_loss: 0.2178 - val_acc: 0.4887\n",
            "Epoch 72/200\n",
            "469/469 [==============================] - 2s 4ms/step - loss: 0.2180 - acc: 0.4597 - val_loss: 0.2172 - val_acc: 0.4905\n",
            "Epoch 73/200\n",
            "469/469 [==============================] - 2s 4ms/step - loss: 0.2175 - acc: 0.4646 - val_loss: 0.2166 - val_acc: 0.4936\n",
            "Epoch 74/200\n",
            "469/469 [==============================] - 2s 4ms/step - loss: 0.2170 - acc: 0.4662 - val_loss: 0.2160 - val_acc: 0.4961\n",
            "Epoch 75/200\n",
            "469/469 [==============================] - 2s 4ms/step - loss: 0.2163 - acc: 0.4691 - val_loss: 0.2154 - val_acc: 0.4987\n",
            "Epoch 76/200\n",
            "469/469 [==============================] - 2s 4ms/step - loss: 0.2158 - acc: 0.4694 - val_loss: 0.2147 - val_acc: 0.5010\n",
            "Epoch 77/200\n",
            "469/469 [==============================] - 2s 4ms/step - loss: 0.2152 - acc: 0.4742 - val_loss: 0.2141 - val_acc: 0.5031\n",
            "Epoch 78/200\n",
            "469/469 [==============================] - 2s 4ms/step - loss: 0.2146 - acc: 0.4775 - val_loss: 0.2134 - val_acc: 0.5057\n",
            "Epoch 79/200\n",
            "469/469 [==============================] - 2s 4ms/step - loss: 0.2141 - acc: 0.4793 - val_loss: 0.2127 - val_acc: 0.5089\n",
            "Epoch 80/200\n",
            "469/469 [==============================] - 2s 4ms/step - loss: 0.2134 - acc: 0.4838 - val_loss: 0.2120 - val_acc: 0.5122\n",
            "Epoch 81/200\n",
            "469/469 [==============================] - 2s 4ms/step - loss: 0.2128 - acc: 0.4859 - val_loss: 0.2113 - val_acc: 0.5149\n",
            "Epoch 82/200\n",
            "469/469 [==============================] - 2s 4ms/step - loss: 0.2121 - acc: 0.4917 - val_loss: 0.2106 - val_acc: 0.5181\n",
            "Epoch 83/200\n",
            "469/469 [==============================] - 2s 4ms/step - loss: 0.2115 - acc: 0.4931 - val_loss: 0.2099 - val_acc: 0.5215\n",
            "Epoch 84/200\n",
            "469/469 [==============================] - 2s 4ms/step - loss: 0.2109 - acc: 0.4957 - val_loss: 0.2092 - val_acc: 0.5256\n",
            "Epoch 85/200\n",
            "469/469 [==============================] - 2s 4ms/step - loss: 0.2103 - acc: 0.5013 - val_loss: 0.2085 - val_acc: 0.5287\n",
            "Epoch 86/200\n",
            "469/469 [==============================] - 2s 4ms/step - loss: 0.2097 - acc: 0.5065 - val_loss: 0.2078 - val_acc: 0.5330\n",
            "Epoch 87/200\n",
            "469/469 [==============================] - 2s 4ms/step - loss: 0.2091 - acc: 0.5078 - val_loss: 0.2071 - val_acc: 0.5374\n",
            "Epoch 88/200\n",
            "469/469 [==============================] - 2s 4ms/step - loss: 0.2083 - acc: 0.5128 - val_loss: 0.2064 - val_acc: 0.5425\n",
            "Epoch 89/200\n",
            "469/469 [==============================] - 2s 4ms/step - loss: 0.2077 - acc: 0.5159 - val_loss: 0.2057 - val_acc: 0.5457\n",
            "Epoch 90/200\n",
            "469/469 [==============================] - 2s 4ms/step - loss: 0.2071 - acc: 0.5207 - val_loss: 0.2050 - val_acc: 0.5496\n",
            "Epoch 91/200\n",
            "469/469 [==============================] - 2s 4ms/step - loss: 0.2065 - acc: 0.5252 - val_loss: 0.2043 - val_acc: 0.5548\n",
            "Epoch 92/200\n",
            "469/469 [==============================] - 2s 4ms/step - loss: 0.2059 - acc: 0.5307 - val_loss: 0.2036 - val_acc: 0.5587\n",
            "Epoch 93/200\n",
            "469/469 [==============================] - 2s 4ms/step - loss: 0.2054 - acc: 0.5318 - val_loss: 0.2029 - val_acc: 0.5647\n",
            "Epoch 94/200\n",
            "469/469 [==============================] - 2s 4ms/step - loss: 0.2048 - acc: 0.5373 - val_loss: 0.2023 - val_acc: 0.5706\n",
            "Epoch 95/200\n",
            "469/469 [==============================] - 2s 4ms/step - loss: 0.2042 - acc: 0.5413 - val_loss: 0.2016 - val_acc: 0.5755\n",
            "Epoch 96/200\n",
            "469/469 [==============================] - 2s 4ms/step - loss: 0.2036 - acc: 0.5455 - val_loss: 0.2010 - val_acc: 0.5813\n",
            "Epoch 97/200\n",
            "469/469 [==============================] - 2s 4ms/step - loss: 0.2031 - acc: 0.5491 - val_loss: 0.2004 - val_acc: 0.5860\n",
            "Epoch 98/200\n",
            "469/469 [==============================] - 2s 4ms/step - loss: 0.2026 - acc: 0.5520 - val_loss: 0.1998 - val_acc: 0.5907\n",
            "Epoch 99/200\n",
            "469/469 [==============================] - 2s 4ms/step - loss: 0.2021 - acc: 0.5588 - val_loss: 0.1992 - val_acc: 0.5960\n",
            "Epoch 100/200\n",
            "469/469 [==============================] - 2s 4ms/step - loss: 0.2016 - acc: 0.5606 - val_loss: 0.1986 - val_acc: 0.6015\n",
            "Epoch 101/200\n",
            "469/469 [==============================] - 2s 4ms/step - loss: 0.2011 - acc: 0.5646 - val_loss: 0.1981 - val_acc: 0.6069\n",
            "Epoch 102/200\n",
            "469/469 [==============================] - 2s 4ms/step - loss: 0.2006 - acc: 0.5676 - val_loss: 0.1975 - val_acc: 0.6107\n",
            "Epoch 103/200\n",
            "469/469 [==============================] - 2s 4ms/step - loss: 0.2002 - acc: 0.5689 - val_loss: 0.1970 - val_acc: 0.6152\n",
            "Epoch 104/200\n",
            "469/469 [==============================] - 2s 4ms/step - loss: 0.1997 - acc: 0.5745 - val_loss: 0.1965 - val_acc: 0.6192\n",
            "Epoch 105/200\n",
            "469/469 [==============================] - 2s 4ms/step - loss: 0.1992 - acc: 0.5760 - val_loss: 0.1960 - val_acc: 0.6217\n",
            "Epoch 106/200\n",
            "469/469 [==============================] - 2s 4ms/step - loss: 0.1988 - acc: 0.5783 - val_loss: 0.1955 - val_acc: 0.6240\n",
            "Epoch 107/200\n",
            "469/469 [==============================] - 2s 4ms/step - loss: 0.1984 - acc: 0.5813 - val_loss: 0.1951 - val_acc: 0.6272\n",
            "Epoch 108/200\n",
            "469/469 [==============================] - 2s 4ms/step - loss: 0.1980 - acc: 0.5839 - val_loss: 0.1947 - val_acc: 0.6292\n",
            "Epoch 109/200\n",
            "469/469 [==============================] - 2s 4ms/step - loss: 0.1977 - acc: 0.5853 - val_loss: 0.1942 - val_acc: 0.6310\n",
            "Epoch 110/200\n",
            "469/469 [==============================] - 2s 4ms/step - loss: 0.1972 - acc: 0.5893 - val_loss: 0.1938 - val_acc: 0.6326\n",
            "Epoch 111/200\n",
            "469/469 [==============================] - 2s 4ms/step - loss: 0.1969 - acc: 0.5900 - val_loss: 0.1934 - val_acc: 0.6339\n",
            "Epoch 112/200\n",
            "469/469 [==============================] - 2s 4ms/step - loss: 0.1966 - acc: 0.5910 - val_loss: 0.1930 - val_acc: 0.6349\n",
            "Epoch 113/200\n",
            "469/469 [==============================] - 2s 4ms/step - loss: 0.1961 - acc: 0.5942 - val_loss: 0.1927 - val_acc: 0.6357\n",
            "Epoch 114/200\n",
            "469/469 [==============================] - 2s 4ms/step - loss: 0.1958 - acc: 0.5946 - val_loss: 0.1923 - val_acc: 0.6375\n",
            "Epoch 115/200\n",
            "469/469 [==============================] - 2s 4ms/step - loss: 0.1956 - acc: 0.5939 - val_loss: 0.1920 - val_acc: 0.6380\n",
            "Epoch 116/200\n",
            "469/469 [==============================] - 2s 4ms/step - loss: 0.1952 - acc: 0.5970 - val_loss: 0.1917 - val_acc: 0.6388\n",
            "Epoch 117/200\n",
            "469/469 [==============================] - 2s 4ms/step - loss: 0.1948 - acc: 0.5993 - val_loss: 0.1913 - val_acc: 0.6397\n",
            "Epoch 118/200\n",
            "469/469 [==============================] - 2s 4ms/step - loss: 0.1946 - acc: 0.5992 - val_loss: 0.1910 - val_acc: 0.6405\n",
            "Epoch 119/200\n",
            "469/469 [==============================] - 2s 4ms/step - loss: 0.1943 - acc: 0.5997 - val_loss: 0.1907 - val_acc: 0.6414\n",
            "Epoch 120/200\n",
            "469/469 [==============================] - 2s 4ms/step - loss: 0.1940 - acc: 0.6017 - val_loss: 0.1905 - val_acc: 0.6417\n",
            "Epoch 121/200\n",
            "469/469 [==============================] - 2s 4ms/step - loss: 0.1938 - acc: 0.6030 - val_loss: 0.1902 - val_acc: 0.6421\n",
            "Epoch 122/200\n",
            "469/469 [==============================] - 2s 4ms/step - loss: 0.1936 - acc: 0.6035 - val_loss: 0.1899 - val_acc: 0.6425\n",
            "Epoch 123/200\n",
            "469/469 [==============================] - 2s 4ms/step - loss: 0.1933 - acc: 0.6032 - val_loss: 0.1897 - val_acc: 0.6429\n",
            "Epoch 124/200\n",
            "469/469 [==============================] - 2s 4ms/step - loss: 0.1931 - acc: 0.6053 - val_loss: 0.1894 - val_acc: 0.6430\n",
            "Epoch 125/200\n",
            "469/469 [==============================] - 2s 4ms/step - loss: 0.1929 - acc: 0.6050 - val_loss: 0.1892 - val_acc: 0.6436\n",
            "Epoch 126/200\n",
            "469/469 [==============================] - 2s 4ms/step - loss: 0.1926 - acc: 0.6065 - val_loss: 0.1890 - val_acc: 0.6446\n",
            "Epoch 127/200\n",
            "469/469 [==============================] - 2s 4ms/step - loss: 0.1924 - acc: 0.6069 - val_loss: 0.1888 - val_acc: 0.6449\n",
            "Epoch 128/200\n",
            "469/469 [==============================] - 2s 4ms/step - loss: 0.1923 - acc: 0.6080 - val_loss: 0.1886 - val_acc: 0.6454\n",
            "Epoch 129/200\n",
            "469/469 [==============================] - 2s 4ms/step - loss: 0.1919 - acc: 0.6109 - val_loss: 0.1883 - val_acc: 0.6456\n",
            "Epoch 130/200\n",
            "469/469 [==============================] - 2s 4ms/step - loss: 0.1918 - acc: 0.6091 - val_loss: 0.1881 - val_acc: 0.6459\n",
            "Epoch 131/200\n",
            "469/469 [==============================] - 2s 4ms/step - loss: 0.1915 - acc: 0.6114 - val_loss: 0.1880 - val_acc: 0.6463\n",
            "Epoch 132/200\n",
            "469/469 [==============================] - 2s 4ms/step - loss: 0.1914 - acc: 0.6120 - val_loss: 0.1878 - val_acc: 0.6466\n",
            "Epoch 133/200\n",
            "469/469 [==============================] - 2s 4ms/step - loss: 0.1912 - acc: 0.6127 - val_loss: 0.1876 - val_acc: 0.6467\n",
            "Epoch 134/200\n",
            "469/469 [==============================] - 2s 4ms/step - loss: 0.1909 - acc: 0.6137 - val_loss: 0.1874 - val_acc: 0.6468\n",
            "Epoch 135/200\n",
            "469/469 [==============================] - 2s 4ms/step - loss: 0.1908 - acc: 0.6164 - val_loss: 0.1872 - val_acc: 0.6471\n",
            "Epoch 136/200\n",
            "469/469 [==============================] - 2s 4ms/step - loss: 0.1907 - acc: 0.6139 - val_loss: 0.1871 - val_acc: 0.6472\n",
            "Epoch 137/200\n",
            "469/469 [==============================] - 2s 4ms/step - loss: 0.1905 - acc: 0.6168 - val_loss: 0.1869 - val_acc: 0.6476\n",
            "Epoch 138/200\n",
            "469/469 [==============================] - 2s 4ms/step - loss: 0.1903 - acc: 0.6170 - val_loss: 0.1867 - val_acc: 0.6478\n",
            "Epoch 139/200\n",
            "469/469 [==============================] - 2s 4ms/step - loss: 0.1902 - acc: 0.6172 - val_loss: 0.1866 - val_acc: 0.6480\n",
            "Epoch 140/200\n",
            "469/469 [==============================] - 2s 4ms/step - loss: 0.1900 - acc: 0.6172 - val_loss: 0.1864 - val_acc: 0.6479\n",
            "Epoch 141/200\n",
            "469/469 [==============================] - 2s 4ms/step - loss: 0.1898 - acc: 0.6190 - val_loss: 0.1863 - val_acc: 0.6482\n",
            "Epoch 142/200\n",
            "469/469 [==============================] - 2s 4ms/step - loss: 0.1897 - acc: 0.6187 - val_loss: 0.1861 - val_acc: 0.6486\n",
            "Epoch 143/200\n",
            "469/469 [==============================] - 2s 4ms/step - loss: 0.1895 - acc: 0.6201 - val_loss: 0.1860 - val_acc: 0.6488\n",
            "Epoch 144/200\n",
            "469/469 [==============================] - 2s 4ms/step - loss: 0.1893 - acc: 0.6231 - val_loss: 0.1858 - val_acc: 0.6490\n",
            "Epoch 145/200\n",
            "469/469 [==============================] - 2s 4ms/step - loss: 0.1894 - acc: 0.6205 - val_loss: 0.1857 - val_acc: 0.6494\n",
            "Epoch 146/200\n",
            "469/469 [==============================] - 2s 4ms/step - loss: 0.1891 - acc: 0.6219 - val_loss: 0.1855 - val_acc: 0.6504\n",
            "Epoch 147/200\n",
            "469/469 [==============================] - 2s 4ms/step - loss: 0.1889 - acc: 0.6231 - val_loss: 0.1854 - val_acc: 0.6515\n",
            "Epoch 148/200\n",
            "469/469 [==============================] - 2s 4ms/step - loss: 0.1888 - acc: 0.6254 - val_loss: 0.1852 - val_acc: 0.6524\n",
            "Epoch 149/200\n",
            "469/469 [==============================] - 2s 4ms/step - loss: 0.1887 - acc: 0.6247 - val_loss: 0.1851 - val_acc: 0.6537\n",
            "Epoch 150/200\n",
            "469/469 [==============================] - 2s 4ms/step - loss: 0.1886 - acc: 0.6264 - val_loss: 0.1849 - val_acc: 0.6548\n",
            "Epoch 151/200\n",
            "469/469 [==============================] - 2s 4ms/step - loss: 0.1883 - acc: 0.6283 - val_loss: 0.1848 - val_acc: 0.6574\n",
            "Epoch 152/200\n",
            "469/469 [==============================] - 2s 4ms/step - loss: 0.1882 - acc: 0.6299 - val_loss: 0.1846 - val_acc: 0.6591\n",
            "Epoch 153/200\n",
            "469/469 [==============================] - 2s 4ms/step - loss: 0.1880 - acc: 0.6305 - val_loss: 0.1845 - val_acc: 0.6605\n",
            "Epoch 154/200\n",
            "469/469 [==============================] - 2s 4ms/step - loss: 0.1879 - acc: 0.6324 - val_loss: 0.1843 - val_acc: 0.6620\n",
            "Epoch 155/200\n",
            "469/469 [==============================] - 2s 4ms/step - loss: 0.1879 - acc: 0.6316 - val_loss: 0.1841 - val_acc: 0.6636\n",
            "Epoch 156/200\n",
            "469/469 [==============================] - 2s 4ms/step - loss: 0.1876 - acc: 0.6348 - val_loss: 0.1840 - val_acc: 0.6651\n",
            "Epoch 157/200\n",
            "469/469 [==============================] - 2s 4ms/step - loss: 0.1874 - acc: 0.6382 - val_loss: 0.1838 - val_acc: 0.6676\n",
            "Epoch 158/200\n",
            "469/469 [==============================] - 2s 4ms/step - loss: 0.1873 - acc: 0.6388 - val_loss: 0.1836 - val_acc: 0.6702\n",
            "Epoch 159/200\n",
            "469/469 [==============================] - 2s 4ms/step - loss: 0.1870 - acc: 0.6418 - val_loss: 0.1834 - val_acc: 0.6727\n",
            "Epoch 160/200\n",
            "469/469 [==============================] - 2s 4ms/step - loss: 0.1869 - acc: 0.6429 - val_loss: 0.1833 - val_acc: 0.6750\n",
            "Epoch 161/200\n",
            "469/469 [==============================] - 2s 4ms/step - loss: 0.1869 - acc: 0.6427 - val_loss: 0.1831 - val_acc: 0.6775\n",
            "Epoch 162/200\n",
            "469/469 [==============================] - 2s 4ms/step - loss: 0.1867 - acc: 0.6454 - val_loss: 0.1829 - val_acc: 0.6790\n",
            "Epoch 163/200\n",
            "469/469 [==============================] - 2s 4ms/step - loss: 0.1865 - acc: 0.6475 - val_loss: 0.1827 - val_acc: 0.6816\n",
            "Epoch 164/200\n",
            "469/469 [==============================] - 2s 4ms/step - loss: 0.1864 - acc: 0.6485 - val_loss: 0.1826 - val_acc: 0.6841\n",
            "Epoch 165/200\n",
            "469/469 [==============================] - 2s 4ms/step - loss: 0.1862 - acc: 0.6508 - val_loss: 0.1824 - val_acc: 0.6866\n",
            "Epoch 166/200\n",
            "469/469 [==============================] - 2s 4ms/step - loss: 0.1861 - acc: 0.6512 - val_loss: 0.1822 - val_acc: 0.6875\n",
            "Epoch 167/200\n",
            "469/469 [==============================] - 2s 4ms/step - loss: 0.1861 - acc: 0.6522 - val_loss: 0.1821 - val_acc: 0.6892\n",
            "Epoch 168/200\n",
            "469/469 [==============================] - 2s 4ms/step - loss: 0.1858 - acc: 0.6532 - val_loss: 0.1819 - val_acc: 0.6902\n",
            "Epoch 169/200\n",
            "469/469 [==============================] - 2s 4ms/step - loss: 0.1857 - acc: 0.6572 - val_loss: 0.1818 - val_acc: 0.6912\n",
            "Epoch 170/200\n",
            "469/469 [==============================] - 2s 4ms/step - loss: 0.1856 - acc: 0.6576 - val_loss: 0.1816 - val_acc: 0.6927\n",
            "Epoch 171/200\n",
            "469/469 [==============================] - 2s 4ms/step - loss: 0.1855 - acc: 0.6580 - val_loss: 0.1815 - val_acc: 0.6941\n",
            "Epoch 172/200\n",
            "469/469 [==============================] - 2s 4ms/step - loss: 0.1853 - acc: 0.6599 - val_loss: 0.1814 - val_acc: 0.6954\n",
            "Epoch 173/200\n",
            "469/469 [==============================] - 2s 4ms/step - loss: 0.1852 - acc: 0.6595 - val_loss: 0.1812 - val_acc: 0.6969\n",
            "Epoch 174/200\n",
            "469/469 [==============================] - 2s 4ms/step - loss: 0.1850 - acc: 0.6611 - val_loss: 0.1811 - val_acc: 0.6978\n",
            "Epoch 175/200\n",
            "469/469 [==============================] - 2s 4ms/step - loss: 0.1849 - acc: 0.6619 - val_loss: 0.1810 - val_acc: 0.6983\n",
            "Epoch 176/200\n",
            "469/469 [==============================] - 2s 4ms/step - loss: 0.1849 - acc: 0.6623 - val_loss: 0.1809 - val_acc: 0.6984\n",
            "Epoch 177/200\n",
            "469/469 [==============================] - 2s 4ms/step - loss: 0.1849 - acc: 0.6619 - val_loss: 0.1807 - val_acc: 0.6992\n",
            "Epoch 178/200\n",
            "469/469 [==============================] - 2s 4ms/step - loss: 0.1847 - acc: 0.6633 - val_loss: 0.1806 - val_acc: 0.6998\n",
            "Epoch 179/200\n",
            "469/469 [==============================] - 2s 4ms/step - loss: 0.1846 - acc: 0.6647 - val_loss: 0.1805 - val_acc: 0.7003\n",
            "Epoch 180/200\n",
            "469/469 [==============================] - 2s 4ms/step - loss: 0.1845 - acc: 0.6649 - val_loss: 0.1804 - val_acc: 0.7007\n",
            "Epoch 181/200\n",
            "469/469 [==============================] - 2s 4ms/step - loss: 0.1844 - acc: 0.6651 - val_loss: 0.1803 - val_acc: 0.7019\n",
            "Epoch 182/200\n",
            "469/469 [==============================] - 2s 4ms/step - loss: 0.1842 - acc: 0.6667 - val_loss: 0.1802 - val_acc: 0.7032\n",
            "Epoch 183/200\n",
            "469/469 [==============================] - 2s 4ms/step - loss: 0.1841 - acc: 0.6660 - val_loss: 0.1801 - val_acc: 0.7034\n",
            "Epoch 184/200\n",
            "469/469 [==============================] - 2s 4ms/step - loss: 0.1841 - acc: 0.6676 - val_loss: 0.1800 - val_acc: 0.7040\n",
            "Epoch 185/200\n",
            "469/469 [==============================] - 2s 4ms/step - loss: 0.1839 - acc: 0.6684 - val_loss: 0.1799 - val_acc: 0.7043\n",
            "Epoch 186/200\n",
            "469/469 [==============================] - 2s 4ms/step - loss: 0.1839 - acc: 0.6695 - val_loss: 0.1798 - val_acc: 0.7047\n",
            "Epoch 187/200\n",
            "469/469 [==============================] - 2s 4ms/step - loss: 0.1838 - acc: 0.6677 - val_loss: 0.1797 - val_acc: 0.7050\n",
            "Epoch 188/200\n",
            "469/469 [==============================] - 2s 4ms/step - loss: 0.1836 - acc: 0.6701 - val_loss: 0.1796 - val_acc: 0.7058\n",
            "Epoch 189/200\n",
            "469/469 [==============================] - 2s 4ms/step - loss: 0.1835 - acc: 0.6702 - val_loss: 0.1795 - val_acc: 0.7063\n",
            "Epoch 190/200\n",
            "469/469 [==============================] - 2s 4ms/step - loss: 0.1835 - acc: 0.6712 - val_loss: 0.1795 - val_acc: 0.7068\n",
            "Epoch 191/200\n",
            "469/469 [==============================] - 2s 4ms/step - loss: 0.1834 - acc: 0.6728 - val_loss: 0.1794 - val_acc: 0.7075\n",
            "Epoch 192/200\n",
            "469/469 [==============================] - 2s 4ms/step - loss: 0.1834 - acc: 0.6716 - val_loss: 0.1793 - val_acc: 0.7078\n",
            "Epoch 193/200\n",
            "469/469 [==============================] - 2s 4ms/step - loss: 0.1832 - acc: 0.6737 - val_loss: 0.1792 - val_acc: 0.7082\n",
            "Epoch 194/200\n",
            "469/469 [==============================] - 2s 4ms/step - loss: 0.1832 - acc: 0.6717 - val_loss: 0.1791 - val_acc: 0.7085\n",
            "Epoch 195/200\n",
            "469/469 [==============================] - 2s 4ms/step - loss: 0.1829 - acc: 0.6758 - val_loss: 0.1790 - val_acc: 0.7092\n",
            "Epoch 196/200\n",
            "469/469 [==============================] - 2s 4ms/step - loss: 0.1829 - acc: 0.6751 - val_loss: 0.1790 - val_acc: 0.7098\n",
            "Epoch 197/200\n",
            "469/469 [==============================] - 2s 4ms/step - loss: 0.1827 - acc: 0.6769 - val_loss: 0.1789 - val_acc: 0.7099\n",
            "Epoch 198/200\n",
            "469/469 [==============================] - 2s 4ms/step - loss: 0.1829 - acc: 0.6746 - val_loss: 0.1788 - val_acc: 0.7105\n",
            "Epoch 199/200\n",
            "469/469 [==============================] - 2s 4ms/step - loss: 0.1827 - acc: 0.6764 - val_loss: 0.1787 - val_acc: 0.7110\n",
            "Epoch 200/200\n",
            "469/469 [==============================] - 2s 4ms/step - loss: 0.1827 - acc: 0.6770 - val_loss: 0.1787 - val_acc: 0.7114\n"
          ],
          "name": "stdout"
        },
        {
          "output_type": "execute_result",
          "data": {
            "text/plain": [
              "<tensorflow.python.keras.callbacks.History at 0x7f96fa165940>"
            ]
          },
          "metadata": {
            "tags": []
          },
          "execution_count": 19
        }
      ]
    },
    {
      "cell_type": "code",
      "metadata": {
        "id": "z01_IXuS05OW"
      },
      "source": [
        "n_student = Sequential()\n",
        "n_student.add(Flatten(input_shape=input_shape))\n",
        "n_student.add(Dense(32, activation='relu'))\n",
        "n_student.add(Dropout(0.2))\n",
        "n_student.add(Dense(nb_classes))\n",
        "n_student.add(Activation('softmax'))\n",
        "\n",
        "#sgd = keras.optimizers.SGD(lr=0.01, decay=1e-6, momentum=0.9, nesterov=True)\n",
        "n_student.compile(loss='categorical_crossentropy',\n",
        "              optimizer='adadelta',\n",
        "              metrics=['accuracy'])"
      ],
      "execution_count": null,
      "outputs": []
    },
    {
      "cell_type": "code",
      "metadata": {
        "id": "t5ALR8Pb09dJ"
      },
      "source": [
        "n_student.fit(X_train, Y_train,\n",
        "          batch_size=256,\n",
        "          epochs=student_epochs,\n",
        "          verbose=1,\n",
        "          validation_data=(X_test, Y_test)) "
      ],
      "execution_count": null,
      "outputs": []
    }
  ]
}